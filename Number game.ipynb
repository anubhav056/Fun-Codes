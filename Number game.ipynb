{
 "cells": [
  {
   "cell_type": "markdown",
   "id": "1b93090e-e4f2-4ea8-8d44-6b49e1c75d90",
   "metadata": {
    "tags": []
   },
   "source": [
    "### Code for rolling N number of die"
   ]
  },
  {
   "cell_type": "code",
   "execution_count": null,
   "id": "b6c58ec2-10f1-4ca6-aa88-e0e72b459a2d",
   "metadata": {},
   "outputs": [],
   "source": [
    "import random\n",
    "n=int(input('No of die to roll:'))\n",
    "s=input('Roll dice? Yes/No:')\n",
    "num=[1,2,3,4,5,6]\n",
    "for i in range (0,n):\n",
    "    if (s=='Yes'):\n",
    "        random_num=random.choice(num)\n",
    "        print(random_num)\n",
    "    else:\n",
    "        pass"
   ]
  }
 ],
 "metadata": {
  "kernelspec": {
   "display_name": "Python 3",
   "language": "python",
   "name": "python3"
  },
  "language_info": {
   "codemirror_mode": {
    "name": "ipython",
    "version": 3
   },
   "file_extension": ".py",
   "mimetype": "text/x-python",
   "name": "python",
   "nbconvert_exporter": "python",
   "pygments_lexer": "ipython3",
   "version": "3.10.6"
  }
 },
 "nbformat": 4,
 "nbformat_minor": 5
}
