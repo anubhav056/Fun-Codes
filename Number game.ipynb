{
 "cells": [
  {
   "cell_type": "markdown",
   "id": "1b93090e-e4f2-4ea8-8d44-6b49e1c75d90",
   "metadata": {
    "tags": []
   },
   "source": [
    "### Code for rolling N number of die"
   ]
  },
  {
   "cell_type": "code",
   "execution_count": 27,
   "id": "b6c58ec2-10f1-4ca6-aa88-e0e72b459a2d",
   "metadata": {},
   "outputs": [
    {
     "name": "stdin",
     "output_type": "stream",
     "text": [
      "No of die to roll: 3\n",
      "Roll dice? Yes/No: Yes\n"
     ]
    },
    {
     "name": "stdout",
     "output_type": "stream",
     "text": [
      "4\n",
      "6\n",
      "3\n"
     ]
    }
   ],
   "source": [
    "import random\n",
    "n=int(input('No of die to roll:'))\n",
    "s=input('Roll dice? Yes/No:')\n",
    "num=[1,2,3,4,5,6]\n",
    "for i in range (0,n):\n",
    "    if (s=='Yes'):\n",
    "        random_num=random.choice(num)\n",
    "        print(random_num)\n",
    "    else:\n",
    "        pass"
   ]
  },
  {
   "cell_type": "markdown",
   "id": "6a61d02a-959e-4ebe-a520-35518e9d92fd",
   "metadata": {},
   "source": [
    "### Code for bingo game"
   ]
  },
  {
   "cell_type": "code",
   "execution_count": null,
   "id": "8787d40c-dd16-46a5-897c-f9457b52208c",
   "metadata": {},
   "outputs": [],
   "source": [
    "import random\n",
    "num=list(range(1,101))\n",
    "done=[]\n",
    "for i in range (0,100):\n",
    "    n=input('Type n for number or type v for verifying:')\n",
    "    if n=='n':\n",
    "        random_num=random.choice(num)\n",
    "        num.remove(random_num)\n",
    "        done.append(random_num)\n",
    "        print(random_num)\n",
    "    elif n=='v':\n",
    "        v=int(input('Enter number to verify:'))\n",
    "        for j in done:\n",
    "            if j==v:\n",
    "                print('Chosen')\n",
    "            else:\n",
    "                pass\n",
    "    elif n=='stop':\n",
    "        break"
   ]
  },
  {
   "cell_type": "code",
   "execution_count": null,
   "id": "391e5438-3962-484c-9295-b9e0c8bce9ef",
   "metadata": {},
   "outputs": [],
   "source": []
  }
 ],
 "metadata": {
  "kernelspec": {
   "display_name": "Python 3",
   "language": "python",
   "name": "python3"
  },
  "language_info": {
   "codemirror_mode": {
    "name": "ipython",
    "version": 3
   },
   "file_extension": ".py",
   "mimetype": "text/x-python",
   "name": "python",
   "nbconvert_exporter": "python",
   "pygments_lexer": "ipython3",
   "version": "3.8.8"
  }
 },
 "nbformat": 4,
 "nbformat_minor": 5
}
